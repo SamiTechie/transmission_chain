{
 "cells": [
  {
   "cell_type": "markdown",
   "id": "e1dbd45d-6e69-4dfd-bac4-97bc051e458b",
   "metadata": {},
   "source": [
    "## Les Codeurs en line"
   ]
  },
  {
   "cell_type": "code",
   "execution_count": 25,
   "id": "04c52799-2c50-43c2-a775-b03f42f23f02",
   "metadata": {},
   "outputs": [
    {
     "data": {
      "image/png": "[encoded data removed]",
      "text/plain": [
       "<Figure size 432x288 with 1 Axes>"
      ]
     },
     "metadata": {
      "needs_background": "light"
     },
     "output_type": "display_data"
    }
   ],
   "source": [
    "import matplotlib.pyplot as plt\n",
    "import numpy as np\n",
    "from math import *\n",
    "def nrz(bits):\n",
    "    clk = []\n",
    "    for i in bits:\n",
    "        if(i == 0):\n",
    "            clk.append(-1)\n",
    "        elif(i == 1):\n",
    "            clk.append(1)\n",
    "        else:\n",
    "            return None\n",
    "    clk.append(clk[-1])\n",
    "    return clk,1\n",
    "def manchester(bits):\n",
    "    clk = []\n",
    "    for i in bits:\n",
    "        if(i == 0):\n",
    "            clk.append(1)\n",
    "            clk.append(-1)\n",
    "        elif(i == 1):\n",
    "            clk.append(-1)\n",
    "            clk.append(1)\n",
    "        else:\n",
    "            return None\n",
    "    clk.append(clk[-1])\n",
    "    return clk,0.5\n",
    "def rz(bits):\n",
    "    clk = []\n",
    "    for i in bits:\n",
    "        if(i == 0):\n",
    "            clk.append(0)\n",
    "            clk.append(0)\n",
    "        elif(i == 1):\n",
    "            clk.append(1)\n",
    "            clk.append(0)\n",
    "        else:\n",
    "            return None\n",
    "    clk.append(clk[-1])\n",
    "    return clk,0.5\n",
    "def hdb3(bits):\n",
    "    clk = []\n",
    "    zeros = []\n",
    "    one = 2\n",
    "    ones = False\n",
    "    for i in bits:\n",
    "        if i == 1:\n",
    "            ones = True\n",
    "            zeros = []\n",
    "            if one % 2 == 0:\n",
    "                clk.append(1)\n",
    "                one = 1\n",
    "            else :\n",
    "                clk.append(-1)\n",
    "                one = 2\n",
    "        elif i == 0:\n",
    "            if len(zeros) == 4 and ones == False:\n",
    "                clk.append(0)\n",
    "            elif len(zeros) % 4 == 0 and len(zeros) > 0:\n",
    "                if one % 2 == 0:\n",
    "                    clk.append(-1)\n",
    "                else :\n",
    "                    clk.append(1)\n",
    "            else :\n",
    "                clk.append(0)\n",
    "        zeros.append(0)\n",
    "    clk.append(clk[-1])\n",
    "    return clk,1\n",
    "def draw_lines(data,t):\n",
    "    for i in range(len(data)+1):\n",
    "        plt.axvline(i,linestyle='dashed',color=\"k\",linewidth=0.7)\n",
    "    plt.arrow(0,0,0,3.9,head_width=0.1, head_length=0.1, fc='k', ec='k')\n",
    "    plt.arrow(0,2,t[-1]+0.05,0,head_width=0.1, head_length=0.1, fc='k', ec='k')\n",
    "    for i,bit in enumerate(data):\n",
    "        i+=0.4\n",
    "        plt.text(i,3.5, str(bit))\n",
    "    plt.text(-0.2,4.1,'e(t)');\n",
    "    plt.text(t[-1]+0.2,1.95,'Time');\n",
    "bits = np.array([0,1,0,0,0,0,1])\n",
    "codeur=nrz(bits)\n",
    "data=np.array(codeur[0])\n",
    "t = codeur[1]*np.arange(len(data))\n",
    "plt.step(t,data+2,where=\"post\",color=\"red\",linewidth=3)\n",
    "\n",
    "draw_lines(bits,t)\n",
    "#plt.gca().axis('off')\n",
    "plt.ylim([0,4])\n",
    "plt.show()\n",
    "#plt.psd(data)\n",
    "## Les Spectres\n"
   ]
  },
  {
   "cell_type": "code",
   "execution_count": 3,
   "id": "de63a44d-dd14-40ae-abf7-2854979eb473",
   "metadata": {},
   "outputs": [
    {
     "data": {
      "text/plain": [
       "'\\ndef dspNrz(Tm,A = 1):\\n    f = np.arange(-10,10,0.01)\\n    return A**2*Tm*np.sinc(Tm*f)**2\\n\\nplt.plot(dspNrz(0.5))\\nplt.show()\\n\\ndef dspManchester(Tm,A = 1):\\n    f = np.arange(-10,10,0.01)\\n    return A**2*Tm*np.sinc(Tm/2*f)**2*np.sin(Tm/2*f)**2\\n\\nplt.plot(dspManchester(1))\\nplt.show()\\n\\ndef dspBiplaire(Tm,A = 1):\\n    f = np.arange(-10,10,0.01)\\n    return A**2*Tm*np.sinc(Tm*f)**2*np.sin(pi*Tm*f)**2\\n\\nplt.plot(dspBiplaire(1))\\nplt.show()\\n'"
      ]
     },
     "execution_count": 3,
     "metadata": {},
     "output_type": "execute_result"
    }
   ],
   "source": [
    "# Densite Spectral\n",
    "# NR\n",
    "\"\"\"\n",
    "def dspNrz(Tm,A = 1):\n",
    "    f = np.arange(-10,10,0.01)\n",
    "    return A**2*Tm*np.sinc(Tm*f)**2\n",
    "\n",
    "plt.plot(dspNrz(0.5))\n",
    "plt.show()\n",
    "\n",
    "def dspManchester(Tm,A = 1):\n",
    "    f = np.arange(-10,10,0.01)\n",
    "    return A**2*Tm*np.sinc(Tm/2*f)**2*np.sin(Tm/2*f)**2\n",
    "\n",
    "plt.plot(dspManchester(1))\n",
    "plt.show()\n",
    "\n",
    "def dspBiplaire(Tm,A = 1):\n",
    "    f = np.arange(-10,10,0.01)\n",
    "    return A**2*Tm*np.sinc(Tm*f)**2*np.sin(pi*Tm*f)**2\n",
    "\n",
    "plt.plot(dspBiplaire(1))\n",
    "plt.show()\n",
    "\"\"\""
   ]
  },
  {
   "cell_type": "markdown",
   "id": "bb9774c9-f267-44ca-8ea0-c2bae6b3fb6a",
   "metadata": {},
   "source": [
    "## Inverse De codage"
   ]
  },
  {
   "cell_type": "code",
   "execution_count": 30,
   "id": "8e206c98-fb62-4c83-ba35-c4b383534a5a",
   "metadata": {},
   "outputs": [
    {
     "data": {
      "image/png": "[encoded data removed]",
      "text/plain": [
       "<Figure size 432x288 with 1 Axes>"
      ]
     },
     "metadata": {
      "needs_background": "light"
     },
     "output_type": "display_data"
    },
    {
     "name": "stdout",
     "output_type": "stream",
     "text": [
      "[-1  1 -1  1  1]\n",
      "[-1  1 -1  1  1]\n",
      "[0 1 0 1 1]\n"
     ]
    },
    {
     "data": {
      "text/plain": [
       "(0.0, 3.0)"
      ]
     },
     "execution_count": 30,
     "metadata": {},
     "output_type": "execute_result"
    },
    {
     "data": {
      "image/png": "[encoded data removed]",
      "text/plain": [
       "<Figure size 432x288 with 1 Axes>"
      ]
     },
     "metadata": {
      "needs_background": "light"
     },
     "output_type": "display_data"
    }
   ],
   "source": [
    "bits = np.array([0,1,0,1])\n",
    "codeur=nrz(bits)\n",
    "data=np.array(codeur[0])\n",
    "t = codeur[1]*np.arange(len(data))\n",
    "plt.step(t,data+2,where=\"post\",color=\"red\",linewidth=3)\n",
    "\n",
    "draw_lines(bits,t)\n",
    "#plt.gca().axis('off')\n",
    "plt.ylim([0,4])\n",
    "plt.show()\n",
    "def invRz(inp):\n",
    "    print(inp)\n",
    "    out = []\n",
    "    for i in range(len(inp)):\n",
    "        if i%2 == 0:\n",
    "            bit = inp[i] if inp[i] else 0 \n",
    "            out.append(bit)\n",
    "    return out\n",
    "def invNrz(inp):\n",
    "    print(inp)\n",
    "    out = []\n",
    "    for i in range(len(inp)):\n",
    "            bit = inp[i] if inp[i] == 1 else 0 \n",
    "            out.append(bit)\n",
    "    return out\n",
    "def invManchester(inp):\n",
    "    print(inp)\n",
    "    out = []\n",
    "    for i in range(len(inp)):\n",
    "        if i%2 == 0:\n",
    "            bit = inp[i] if inp[i] else 0 \n",
    "            out.append(bit)\n",
    "    return out\n",
    "\n",
    "rzInv = np.array(invRz(data))\n",
    "nrzInv = np.array(invNrz(data))\n",
    "manchester\n",
    "print(rzInv)\n",
    "t = np.arange(len(data))\n",
    "plt.step(t,nrzInv,where=\"post\",color=\"red\",linewidth=3)\n",
    "plt.ylim([0,3])"
   ]
  },
  {
   "cell_type": "code",
   "execution_count": 183,
   "id": "aaa11289-6958-43ae-b150-6db4dedd6d50",
   "metadata": {},
   "outputs": [
    {
     "data": {
      "text/plain": [
       "[<matplotlib.lines.Line2D at 0x7f9e69c30520>]"
      ]
     },
     "execution_count": 183,
     "metadata": {},
     "output_type": "execute_result"
    },
    {
     "data": {
      "image/png": "[encoded data removed]",
      "text/plain": [
       "<Figure size 432x288 with 1 Axes>"
      ]
     },
     "metadata": {
      "needs_background": "light"
     },
     "output_type": "display_data"
    }
   ],
   "source": [
    "## Filtre D'emission\n",
    "# Cas Ideal\n",
    "def filtreSignalIdeal(e,B= 1/(0.5),Tb = 0.1):\n",
    "    time = np.arange(-8*Tb,8*Tb,0.01)\n",
    "    result = []\n",
    "    def ge(t):\n",
    "        return 2 * B * np.sinc(2 * np.pi * B * t)\n",
    "    for t in time:\n",
    "        s = 0\n",
    "        for k in range(len(e)):\n",
    "            s += e[k] * ge(t - k*Tb)\n",
    "        result.append(s)\n",
    "    return result\n",
    "f = filtreSignalIdeal(codeur[0])\n",
    "plt.plot(f)\n",
    "        "
   ]
  },
  {
   "cell_type": "code",
   "execution_count": 171,
   "id": "71d73ba7-4aa3-462a-aefc-5c2ea8286976",
   "metadata": {},
   "outputs": [
    {
     "data": {
      "text/plain": [
       "1.0"
      ]
     },
     "execution_count": 171,
     "metadata": {},
     "output_type": "execute_result"
    },
    {
     "data": {
      "image/png": "[encoded data removed]",
      "text/plain": [
       "<Figure size 432x288 with 1 Axes>"
      ]
     },
     "metadata": {
      "needs_background": "light"
     },
     "output_type": "display_data"
    }
   ],
   "source": [
    "plt.plot(bits,\"o\")\n",
    "np.sinc(0)"
   ]
  },
  {
   "cell_type": "code",
   "execution_count": 3,
   "id": "6c461a1e-cdf0-4299-8e08-78322681c9c0",
   "metadata": {},
   "outputs": [],
   "source": [
    "## HDB3 est une combinition de\n",
    "#  Bipolair\n",
    "#  si la seccsion de 0 > 3 le 4em prendre l'etat un precedent"
   ]
  },
  {
   "cell_type": "code",
   "execution_count": 4,
   "id": "581301c6-ffe1-4fc7-8773-43e2e348e1c9",
   "metadata": {},
   "outputs": [
    {
     "name": "stdout",
     "output_type": "stream",
     "text": [
      "[ 0  1  0  0  0  1 -1  1 -1  0  0  0 -1  0  0  0  0]\n"
     ]
    },
    {
     "ename": "NameError",
     "evalue": "name 'N' is not defined",
     "output_type": "error",
     "traceback": [
      "\u001b[0;31m---------------------------------------------------------------------------\u001b[0m",
      "\u001b[0;31mNameError\u001b[0m                                 Traceback (most recent call last)",
      "Input \u001b[0;32mIn [4]\u001b[0m, in \u001b[0;36m<cell line: 3>\u001b[0;34m()\u001b[0m\n\u001b[1;32m      1\u001b[0m \u001b[38;5;28mprint\u001b[39m(data)\n\u001b[1;32m      2\u001b[0m out \u001b[38;5;241m=\u001b[39m []\n\u001b[0;32m----> 3\u001b[0m x \u001b[38;5;241m=\u001b[39m np\u001b[38;5;241m.\u001b[39mlinspace(\u001b[38;5;241m0.0\u001b[39m, \u001b[43mN\u001b[49m\u001b[38;5;241m*\u001b[39mT, N)\n\u001b[1;32m      4\u001b[0m out\u001b[38;5;241m=\u001b[39mnp\u001b[38;5;241m.\u001b[39mrepeat(data,\u001b[38;5;28mint\u001b[39m(\u001b[38;5;241m100\u001b[39m))\n\u001b[1;32m      5\u001b[0m sp\u001b[38;5;241m=\u001b[39mnp\u001b[38;5;241m.\u001b[39mfft\u001b[38;5;241m.\u001b[39mfft(out,\u001b[38;5;241m8000\u001b[39m)\n",
      "\u001b[0;31mNameError\u001b[0m: name 'N' is not defined"
     ]
    }
   ],
   "source": [
    "print(data)\n",
    "out = []\n",
    "x = np.linspace(0.0, N*T, N)\n",
    "out=np.repeat(data,int(100))\n",
    "sp=np.fft.fft(out,8000)\n",
    "t = np.linspace(-100,100,len(sp))\n",
    "freq = np.fft.fftfreq(t.shape[-1])\n",
    "plt.xlim([-0.04,0.04])\n",
    "plt.plot(freq,sp.imag)\n"
   ]
  },
  {
   "cell_type": "code",
   "execution_count": null,
   "id": "02537ce0-087b-4ed8-9907-e7fd0f4c3e54",
   "metadata": {},
   "outputs": [],
   "source": [
    "print(data)\n",
    "data= np.array([1])\n",
    "out=np.repeat(data,int(10))\n",
    "out = [1,1,1,1,1,1,1,1]\n",
    "\n",
    "sp=np.fft.fft(out)\n",
    "t = np.linspace(-100,100,len(sp))\n",
    "freq = np.fft.fftfreq(t.shape[-1])\n",
    "plt.xlim([-1,1])\n",
    "plt.plot(freq,sp.real)"
   ]
  },
  {
   "cell_type": "code",
   "execution_count": null,
   "id": "1bd5f8b6-0065-4e71-b462-04fd46eaab89",
   "metadata": {},
   "outputs": [],
   "source": [
    "def rect(T):\n",
    "    \"\"\"create a centered rectangular pulse of width $T\"\"\"\n",
    "    return lambda t: (-T/2 <= t) & (t < T/2)\n",
    "\n",
    "def pulse_train(t, at, shape):\n",
    "    \"\"\"create a train of pulses over $t at times $at and shape $shape\"\"\"\n",
    "    return np.sum(shape(t - at[:,np.newaxis]), axis=0)\n",
    "sig = pulse_train(\n",
    "    t=np.arange(100),              # time domain\n",
    "    at=np.array([ 10, 40, 80]),  # times of pulses\n",
    "    shape=rect(10)                 # shape of pulse\n",
    ")\n",
    "print(sig)\n",
    "sp=np.fft.fft(sig,100`00)\n",
    "t = np.linspace(-100,100,len(sp))\n",
    "freq = np.fft.fftfreq(t.shape[-1])\n",
    "plt.xlim([-0.1,0.1])\n",
    "plt.plot(freq,abs(sp.real))"
   ]
  },
  {
   "cell_type": "code",
   "execution_count": null,
   "id": "594229fb-f489-48fc-830a-6abb0be57268",
   "metadata": {},
   "outputs": [],
   "source": [
    "\n",
    "import matplotlib.pyplot as plt\n",
    "import numpy as np\n",
    "import scipy.fftpack\n",
    "\n",
    "# Number of sample points\n",
    "N = 600\n",
    "# sample spacing\n",
    "T = 1.0 / 800.0\n",
    "x = np.linspace(0.0, N*T, N)\n",
    "y = np.sin(50.0 * 2.0*np.pi*x) + 0.5*np.sin(80.0 * 2.0*np.pi*x)\n",
    "yf = scipy.fftpack.fft(y)\n",
    "xf = np.linspace(0.0, 1.0//(2.0*T), N//2)\n",
    "\n",
    "fig, ax = plt.subplots()\n",
    "ax.plot(xf, 2.0/N * np.abs(yf[:N//2]))\n",
    "plt.show()"
   ]
  },
  {
   "cell_type": "code",
   "execution_count": null,
   "id": "cec84d6f-8a59-42ef-af92-9fe0e48958a5",
   "metadata": {},
   "outputs": [],
   "source": [
    "np.sin"
   ]
  },
  {
   "cell_type": "code",
   "execution_count": null,
   "id": "8f631616-3e1c-470f-be04-c4c517d0a108",
   "metadata": {},
   "outputs": [],
   "source": [
    "import matplotlib.pyplot as plt\n",
    "data = np.rect(data)\n",
    "Tm = np.arange(len(data))\n",
    "sp = np.fft.fft(data)\n",
    "freq = np.fft.fftfreq(t.shape[-1])\n",
    "plt.plot(freq, abs(sp.imag))"
   ]
  }
 ],
 "metadata": {
  "kernelspec": {
   "display_name": "Python 3 (ipykernel)",
   "language": "python",
   "name": "python3"
  },
  "language_info": {
   "codemirror_mode": {
    "name": "ipython",
    "version": 3
   },
   "file_extension": ".py",
   "mimetype": "text/x-python",
   "name": "python",
   "nbconvert_exporter": "python",
   "pygments_lexer": "ipython3",
   "version": "3.10.4"
  }
 },
 "nbformat": 4,
 "nbformat_minor": 5
}
